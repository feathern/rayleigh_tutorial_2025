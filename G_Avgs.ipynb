{
 "cells": [
  {
   "cell_type": "markdown",
   "id": "80672942",
   "metadata": {},
   "source": [
    "Global Averages Example\n",
    "=========\n",
    "\n",
    "**Summary:**   Full-volume averages of requested output variables over the full, spherical shell.  These files store a time-series of the specified output quantities $q_i(t)$ such that:\n",
    "\n",
    "$q_i(t)=\\frac{1}{V}\\int q_i(r,\\theta,\\phi,t)dV$\n",
    "\n",
    "**Subdirectory:**  G_Avgs\n",
    "\n",
    "**main_input prefix:** globalavg\n",
    "\n",
    "**Python Class:** G_Avgs\n",
    "\n",
    "**Additional Namelist Variables:**  \n",
    "None\n",
    "\n",
    "*Before proceeding, ensure that you have copied Rayleigh/post_processing/rayleigh_diagnostics.py to your simulation directory.  This Python module is required for reading Rayleigh output into Python.*\n",
    "\n",
    "Examining the *main_input* file, we see that the following output values have been denoted for the Global Averages (see *rayleigh_output_variables.pdf* for the mathematical formulae):\n",
    "\n",
    "\n",
    "| Menu Code | Description |\n",
    "|-----------|-------------|\n",
    "| 401       | Full Kinetic Energy Density (KE) |\n",
    "| 402       | KE (radial motion) |\n",
    "| 403       | KE (theta motion)  |\n",
    "| 404       | KE (phi motion) |\n",
    "| 405       | Mean Kinetic Energy Density (MKE) |\n",
    "| 406       | MKE (radial motion) |\n",
    "| 407       | MKE (theta motion) |\n",
    "| 408       | MKE (phi motion) |\n",
    "| 409       | Fluctuating Kinetic Energy Density (FKE) |\n",
    "| 410       | FKE (radial motion) |\n",
    "| 411       | FKE (theta motion) |\n",
    "| 412       | FKE (phi motion) |\n",
    "\n",
    "In the example that follows, we will plot the time-evolution of these different contributions to the kinetic energy budget.  We begin with the following preamble:"
   ]
  },
  {
   "cell_type": "code",
   "execution_count": null,
   "id": "2c26a489",
   "metadata": {},
   "outputs": [],
   "source": [
    "%matplotlib inline\n",
    "from rayleigh_diagnostics import G_Avgs, build_file_list\n",
    "import matplotlib.pyplot as plt\n",
    "import numpy\n",
    "import warnings\n",
    "warnings.filterwarnings(\"ignore\")\n",
    "\n",
    "\n",
    "model_type = 1   # 1 for anelastic example, 2 Boussinesq example\n",
    "saveplot = True # Set to True to save plots generated in this notebook to pdf\n",
    "font_size=14     # Font size for plot labels \n",
    "\n",
    "base_dir = '/rayleigh_tutorial/'\n",
    "\n",
    "# Define some model-specific information\n",
    "if (model_type == 1):\n",
    "    model_dir = base_dir+'anelastic/'\n",
    "    eunits = r'(erg cm$^{-3}$)' # energy density\n",
    "    tunits = '(s)'              # time\n",
    "    imin = 0             # minimum iteration number to process for time series\n",
    "    imax = 10000000      # maximum iteration number to process for time series\n",
    "    \n",
    "if (model_type == 2):\n",
    "    model_dir = base_dir+'Boussinesq/'\n",
    "    eunits = ''                          # energy density\n",
    "    tunits = '(viscous diffusion times)' # time\n",
    "    imin = 0             # minimum iteration number to process for time series\n",
    "    imax = 10000000      # maximum iteration number to process for time series"
   ]
  },
  {
   "cell_type": "markdown",
   "id": "72b3681d",
   "metadata": {},
   "source": [
    "The preamble for each plotting example will look similar to that above.  We import the numpy and matplotlib.pyplot modules, aliasing the latter to *plt*.   We also import two items from *rayleigh_diagnostics*: a helper function *build_file_list* and the *GlobalAverage* class. \n",
    "\n",
    "The *G_Avgs* class is the Python class that corresponds to the full-volume averages stored in the *G_Avgs* subdirectory of each Rayleigh run.\n",
    "\n",
    "We will use the build_file_list function in many of the examples that follow.  It's useful when processing a time series of data, as opposed to a single snapshot.  This function accepts three parameters: a beginning time step, an ending time step, and a subdirectory (path).  It returns a list of all files found in that directory that lie within the inclusive range [beginning time step, ending time step].  The file names are prepended with the subdirectory name, as shown below."
   ]
  },
  {
   "cell_type": "code",
   "execution_count": null,
   "id": "33e8de32",
   "metadata": {},
   "outputs": [],
   "source": [
    "# Build a list of all files ranging from iteration 0 million to 10 million\n",
    "files = build_file_list(imin,imax,path=model_dir+'G_Avgs')\n",
    "print(files)"
   ]
  },
  {
   "cell_type": "markdown",
   "id": "8ca0b5f9",
   "metadata": {},
   "source": [
    "We can create an instance of the G_Avgs class by initializing it with a filename.  The optional keyword parameter *path* is used to specify the directory.  If *path* is not specified, its value will default to the subdirectory name associated with the datastructure (*G_Avgs* in this instance).  I.e., the default is to look for files in a subdirectory of the directoy from within which the notebook is being run.\n",
    "\n",
    "Each class was programmed with a **docstring** describing the class attributes.   Once you created an instance of a rayleigh_diagnostics class, you can some helpful information regarding its attributes and methods using the help function as shown below."
   ]
  },
  {
   "cell_type": "code",
   "execution_count": null,
   "id": "cff21a89",
   "metadata": {},
   "outputs": [],
   "source": [
    "ga = G_Avgs(filename=files[0],path='') \n",
    "help(ga)"
   ]
  },
  {
   "cell_type": "markdown",
   "id": "6c908d8f",
   "metadata": {},
   "source": [
    "Examining the docstring, we see a few important attributes that are common to the other Rayleigh output types:\n",
    "1.  niter -- the number of time steps in the file\n",
    "2.  nq    -- the number of output variables stored in the file\n",
    "3.  qv    -- the menu codes for those variables\n",
    "4.  vals  -- the actual data\n",
    "5.  time  -- the simulation time corresponding to each timestep in the file\n",
    "\n",
    "The first step in plotting a time series is to collate the data.\n",
    "\n",
    "This is easy to do with the G_Avgs class. Instead of passing it a single file, we pass it a list of files and the concatenation of the data is handled automatically via the initialization routines."
   ]
  },
  {
   "cell_type": "code",
   "execution_count": null,
   "id": "81edf2a8",
   "metadata": {},
   "outputs": [],
   "source": [
    "ga = G_Avgs(files,path='')\n",
    "ga.niter\n",
    "gavgs = ga.vals\n",
    "time  = ga.time\n",
    "iters = ga.iters"
   ]
  },
  {
   "cell_type": "markdown",
   "id": "f9c338bc",
   "metadata": {},
   "source": [
    "The Lookup Table (LUT)\n",
    "------------------\n",
    "\n",
    "The next step in the process is to identify where within the *gavgs* array our deisired output variables reside.  Every Rayleigh file object possesses a lookup table (lut).  The lookup table is a python list used to identify the index within the vals array where a particular menu code resides.  For instance, the menu code for the theta component of the velocity is 2.  The location of v_theta in the vals array is then stored in lut[2].  \n",
    "\n",
    "Note that you should never assume that output variables are stored in any particular order.  Moreover, the lookup table is unique to each file and is likely to change during a run if you modify the output variables in between restarts.  When running the benchmark, we kept a consistent set of outputs throughout the entirety of the run.  This means that the lookup table did not change between outputs and that we can safely use the final file's lookup table (or any other file's table) to reference our data.\n",
    "\n",
    "Plotting Kinetic Energy\n",
    "---------------------------\n",
    "Let's examine the different contributions to the kinetic energy density in our models.  Before we can plot, we should use the lookup table to identify the location of each quantity we are interested in plotting."
   ]
  },
  {
   "cell_type": "code",
   "execution_count": null,
   "id": "547d1b6e",
   "metadata": {},
   "outputs": [],
   "source": [
    "#The indices associated with our various outputs are stored in a lookup table\n",
    "#as part of the GlobalAverage data structure.  We define several variables to\n",
    "#hold those indices here:\n",
    "\n",
    "lut = ga.lut\n",
    "ke  = lut[401]  # Kinetic Energy (KE)\n",
    "rke = lut[402]  # KE associated with radial motion\n",
    "tke = lut[403]  # KE associated with theta motion\n",
    "pke = lut[404]  # KE associated with azimuthal motion\n",
    "\n",
    "#We also grab some energies associated with the mean (m=0) motions\n",
    "mke  = lut[405]\n",
    "mrke = lut[406]  # KE associated with mean radial motion\n",
    "mtke = lut[407]  # KE associated with mean theta motion\n",
    "mpke = lut[408]  # KE associated with mean azimuthal motion\n",
    "\n",
    "#We also output energies associated with the fluctuating/nonaxisymmetric\n",
    "#motions (e.g., v- v_{m=0})\n",
    "fke  = lut[409]\n",
    "frke = lut[410]  # KE associated with mean radial motion\n",
    "ftke = lut[411]  #KE associated with mean theta motion\n",
    "fpke = lut[412]  # KE associated with mean azimuthal motion"
   ]
  },
  {
   "cell_type": "markdown",
   "id": "a7b7f1bd",
   "metadata": {},
   "source": [
    "To begin with, let's plot the total, mean, and fluctuating kinetic energy density during the initial transient phase, and then during the equilibrated phase."
   ]
  },
  {
   "cell_type": "code",
   "execution_count": null,
   "id": "c5c681ef",
   "metadata": {},
   "outputs": [],
   "source": [
    "sizetuple=(10,4)\n",
    "fig, ax = plt.subplots( figsize=sizetuple)\n",
    "plt.rcParams.update({'font.size': font_size})\n",
    "\n",
    "ax.plot(time, gavgs[:,ke], label='KE')\n",
    "ax.plot(time, gavgs[:,mke], label = 'MKE')\n",
    "ax.plot(time,gavgs[:,fke],label='FKE')\n",
    "ax.legend(loc='center right', shadow=True)\n",
    "ax.set_title('Volume-Averaged Energy Density')\n",
    "ax.set_xlabel('Simulation Time '+tunits)\n",
    "ax.set_ylabel('Energy Density '+eunits)\n",
    "\n",
    "plot_file1 ='energy_vs_time_1.pdf'  \n",
    "plt.tight_layout()\n",
    "if (saveplot):    \n",
    "    plt.savefig(plot_file1)\n",
    "else:\n",
    "    plt.show()"
   ]
  },
  {
   "cell_type": "markdown",
   "id": "2abf0d28",
   "metadata": {},
   "source": [
    "We can also look at the energy associated with each velocity component."
   ]
  },
  {
   "cell_type": "code",
   "execution_count": null,
   "id": "e3ebe259",
   "metadata": {},
   "outputs": [],
   "source": [
    "sizetuple=(10,10)\n",
    "xlims=[0,0.2]\n",
    "qinds = [ [ke,rke,tke,pke] , [fke, frke, ftke, fpke] , [mke, mrke, mtke, mpke] ]\n",
    "labels = ['Total', 'r', r'$\\theta$', r'$\\phi$']\n",
    "titles = ['','Fluctuating ', 'Mean ']\n",
    "\n",
    "fig, ax = plt.subplots(ncols=1, nrows=3, figsize=sizetuple)\n",
    "for i in range(3):\n",
    "    for j in range(4):\n",
    "        ax[i].plot(time, gavgs[:,qinds[i][j]], label=labels[j])\n",
    "\n",
    "        ax[i].legend(loc='center right', shadow=True, ncol=2)\n",
    "        ax[i].set_title(titles[i]+'Energy Density Breakdown')\n",
    "        ax[i].set_xlabel('Time '+tunits)\n",
    "        ax[i].set_ylabel('Energy Density '+eunits)\n",
    "\n",
    "\n",
    "plot_file2 ='energy_vs_time_2.pdf'\n",
    "plt.tight_layout()\n",
    "\n",
    "if (saveplot):    \n",
    "    plt.savefig(plot_file2)\n",
    "else:\n",
    "    plt.show()"
   ]
  },
  {
   "cell_type": "code",
   "execution_count": null,
   "id": "40cfe5ec",
   "metadata": {},
   "outputs": [],
   "source": []
  }
 ],
 "metadata": {
  "kernelspec": {
   "display_name": "Python 3 (ipykernel)",
   "language": "python",
   "name": "python3"
  },
  "language_info": {
   "codemirror_mode": {
    "name": "ipython",
    "version": 3
   },
   "file_extension": ".py",
   "mimetype": "text/x-python",
   "name": "python",
   "nbconvert_exporter": "python",
   "pygments_lexer": "ipython3",
   "version": "3.9.15"
  }
 },
 "nbformat": 4,
 "nbformat_minor": 5
}
